{
 "cells": [
  {
   "cell_type": "code",
   "execution_count": 120,
   "id": "785a5644",
   "metadata": {},
   "outputs": [
    {
     "data": {
      "text/plain": [
       "0        0\n",
       "1        1\n",
       "2        1\n",
       "3        0\n",
       "4        1\n",
       "        ..\n",
       "36254    1\n",
       "36255    0\n",
       "36256    1\n",
       "36257    0\n",
       "36258    1\n",
       "Name: Gender, Length: 36259, dtype: int32"
      ]
     },
     "execution_count": 120,
     "metadata": {},
     "output_type": "execute_result"
    }
   ],
   "source": [
    "# data preproccessing\n",
    "import pandas as pd\n",
    "import numpy as np\n",
    "from sklearn.preprocessing import LabelEncoder\n",
    "from sklearn.impute import SimpleImputer\n",
    "from sklearn.preprocessing import StandardScaler\n",
    "from sklearn.feature_selection import SelectKBest\n",
    "from sklearn.feature_selection import chi2\n",
    "from sklearn.model_selection import train_test_split\n",
    "from sklearn.linear_model import LogisticRegression\n",
    "from sklearn.metrics import classification_report\n",
    "from sklearn.model_selection import GridSearchCV\n",
    "\n",
    "# Load the data\n",
    "data = pd.read_csv('C:\\data_set\\depression.csv')\n",
    "\n",
    "\n",
    "\n",
    "# Remove two columns\n",
    "data = data[[\"Gender\",\"Age\",\"Education Level\",\"Marital Status\",\"Household Size\",\"Household Income\",\"Full Time Work\",\"Work Type\",\"Time In Current Job\",\"Out Of Work\",\"Trouble Sleeping History\",\"Sleep Hours\",\"Vigorous Recreation\",\"Sedentary Time\",\"Vigorous Work\",\"Moderate Work\",\"Cant Work\",\"Lifetime Alcohol Consumption\",\"Pregnant\",\"Health Problem Heart\",\"Health Problem Diabetes\",\"Current Smoker\",\"Depression\"]]\n",
    "# Replace \"missing\" with NaN in the entire dataframe\n",
    "data = data.apply(lambda x: x.str.strip().replace('Missing', pd.NA) if x.dtype == \"object\" else x)\n",
    "encoder = LabelEncoder()\n",
    "data['Gender'] = encoder.fit_transform(data['Gender'])\n",
    "data[\"Depression\"] = data[\"Depression\"].replace({\"Not Depressed\": 0, \"Depressed\": 1})\n",
    "# Reverse the label encoding\n",
    "data['Gender']"
   ]
  },
  {
   "cell_type": "code",
   "execution_count": 121,
   "id": "fa7cd2db",
   "metadata": {},
   "outputs": [
    {
     "data": {
      "text/plain": [
       "(36259, 23)"
      ]
     },
     "execution_count": 121,
     "metadata": {},
     "output_type": "execute_result"
    }
   ],
   "source": [
    "data.shape                                                          "
   ]
  },
  {
   "cell_type": "code",
   "execution_count": 122,
   "id": "6b23e149",
   "metadata": {},
   "outputs": [
    {
     "data": {
      "text/plain": [
       "Gender                              0\n",
       "Age                                 0\n",
       "Education Level                  2157\n",
       "Marital Status                   1636\n",
       "Household Size                      0\n",
       "Household Income                 1813\n",
       "Full Time Work                  30492\n",
       "Work Type                       16284\n",
       "Time In Current Job                 0\n",
       "Out Of Work                     21461\n",
       "Trouble Sleeping History            0\n",
       "Sleep Hours                         0\n",
       "Vigorous Recreation                 3\n",
       "Sedentary Time                      0\n",
       "Vigorous Work                       0\n",
       "Moderate Work                       0\n",
       "Cant Work                           0\n",
       "Lifetime Alcohol Consumption    22323\n",
       "Pregnant                        28366\n",
       "Health Problem Heart                0\n",
       "Health Problem Diabetes             0\n",
       "Current Smoker                  20789\n",
       "Depression                          0\n",
       "dtype: int64"
      ]
     },
     "execution_count": 122,
     "metadata": {},
     "output_type": "execute_result"
    }
   ],
   "source": [
    "data.isnull().sum()"
   ]
  },
  {
   "cell_type": "code",
   "execution_count": 123,
   "id": "54ded2f9",
   "metadata": {},
   "outputs": [],
   "source": [
    "# Drop the columns that have more than 10000 null values\n",
    "data = data.dropna(axis=1, thresh=len(data)-10000)\n",
    "\n",
    "# Drop the rows that contain any null value\n",
    "data = data.dropna(axis=0)"
   ]
  },
  {
   "cell_type": "code",
   "execution_count": 124,
   "id": "a98e4fb1",
   "metadata": {},
   "outputs": [
    {
     "data": {
      "text/plain": [
       "Gender                -0.077534\n",
       "Age                   -0.010262\n",
       "Household Size        -0.007909\n",
       "Time In Current Job   -0.087375\n",
       "Sleep Hours           -0.085884\n",
       "Sedentary Time         0.033815\n",
       "Depression             1.000000\n",
       "Name: Depression, dtype: float64"
      ]
     },
     "execution_count": 124,
     "metadata": {},
     "output_type": "execute_result"
    }
   ],
   "source": [
    "data.corr()[\"Depression\"]"
   ]
  },
  {
   "cell_type": "code",
   "execution_count": 125,
   "id": "4c53255a",
   "metadata": {},
   "outputs": [
    {
     "data": {
      "text/plain": [
       "0    29578\n",
       "1     2838\n",
       "Name: Depression, dtype: int64"
      ]
     },
     "execution_count": 125,
     "metadata": {},
     "output_type": "execute_result"
    }
   ],
   "source": [
    "data[\"Depression\"].value_counts()"
   ]
  },
  {
   "cell_type": "code",
   "execution_count": 126,
   "id": "1068f265",
   "metadata": {},
   "outputs": [
    {
     "data": {
      "text/plain": [
       "College or Degree            9715\n",
       "College Graduate or Above    7528\n",
       "High School                  7517\n",
       "9-11th Grade                 4541\n",
       "Less Than 9th Grade          3115\n",
       "Name: Education Level, dtype: int64"
      ]
     },
     "execution_count": 126,
     "metadata": {},
     "output_type": "execute_result"
    }
   ],
   "source": [
    "\n",
    "\n",
    "# Replace the \"Some College or AA Degree\" category with \"College\"\n",
    "data[\"Education Level\"] = data[\"Education Level\"].replace(\"Some College or AA Degree\", \"College or Degree\")\n",
    "\n",
    "data[\"Education Level\"].value_counts()"
   ]
  },
  {
   "cell_type": "code",
   "execution_count": 127,
   "id": "32807b93",
   "metadata": {},
   "outputs": [
    {
     "data": {
      "text/plain": [
       "Married          16781\n",
       "Never Married     5765\n",
       "Divorced          3619\n",
       "Partner           2643\n",
       "Widowed           2528\n",
       "Separated         1080\n",
       "Name: Marital Status, dtype: int64"
      ]
     },
     "execution_count": 127,
     "metadata": {},
     "output_type": "execute_result"
    }
   ],
   "source": [
    "data[\"Marital Status\"].value_counts()"
   ]
  },
  {
   "cell_type": "code",
   "execution_count": 128,
   "id": "901ac419",
   "metadata": {},
   "outputs": [
    {
     "data": {
      "text/plain": [
       "Above 40k    17916\n",
       "Below 40k    14500\n",
       "Name: Household Income, dtype: int64"
      ]
     },
     "execution_count": 128,
     "metadata": {},
     "output_type": "execute_result"
    }
   ],
   "source": [
    "\n",
    "\n",
    "# Define a custom function to categorize income\n",
    "def categorize_income(income):\n",
    "    if income in [\"Below $5K\", \"Below $10K\", \"Below $15K\", \"Below $20K\", \"Below $25K\", \"Below $35K\"]:\n",
    "        return \"Below 40k\"\n",
    "    else:\n",
    "        return \"Above 40k\"\n",
    "\n",
    "# Apply the custom function to the \"Household Income\" variable\n",
    "data[\"Household Income\"] = data[\"Household Income\"].apply(categorize_income)\n",
    "\n",
    "data[\"Household Income\"].value_counts()"
   ]
  },
  {
   "cell_type": "code",
   "execution_count": 129,
   "id": "f3ef8911",
   "metadata": {},
   "outputs": [],
   "source": [
    "data[\"Trouble Sleeping\"] = data[\"Trouble Sleeping History\"].replace({\"Yes\": 1, \"No\": 0})\n"
   ]
  },
  {
   "cell_type": "code",
   "execution_count": 130,
   "id": "204a3c5a",
   "metadata": {},
   "outputs": [],
   "source": [
    "data[\"Recreation\"] = data[\"Vigorous Recreation\"].replace({\"Yes\": 1, \"No\": 0})\n"
   ]
  },
  {
   "cell_type": "code",
   "execution_count": 131,
   "id": "363a6f12",
   "metadata": {},
   "outputs": [],
   "source": [
    "data[\"Vigorous Work\"] = data[\"Vigorous Work\"].replace({\"Yes\": 1, \"No\": 0})"
   ]
  },
  {
   "cell_type": "code",
   "execution_count": 132,
   "id": "c7f07952",
   "metadata": {},
   "outputs": [],
   "source": [
    "data[\"Moderate Work\"] = data[\"Moderate Work\"].replace({\"Yes\": 1, \"No\": 0})"
   ]
  },
  {
   "cell_type": "code",
   "execution_count": 133,
   "id": "6a2a399c",
   "metadata": {},
   "outputs": [],
   "source": [
    "data[\"Can Work\"] = data[\"Cant Work\"].replace({\"Yes\": 0, \"No\": 1})"
   ]
  },
  {
   "cell_type": "code",
   "execution_count": 134,
   "id": "13e8f7ec",
   "metadata": {},
   "outputs": [],
   "source": [
    "data[\"Heart Problem\"] = data[\"Health Problem Heart\"].replace({\"Yes\": 1, \"No\": 0})\n",
    "data[\"Diabetes\"] = data[\"Health Problem Diabetes\"].replace({\"Yes\": 1, \"No\": 0})\n",
    "\n",
    "columns_to_drop = [\"Trouble Sleeping History\", \"Vigorous Recreation\", \"Cant Work\",\"Health Problem Diabetes\",\"Health Problem Heart\"]\n",
    "\n",
    "# Use the drop() method to drop the columns\n",
    "data = data.drop(columns_to_drop, axis=1)"
   ]
  },
  {
   "cell_type": "code",
   "execution_count": 135,
   "id": "f2c59157",
   "metadata": {},
   "outputs": [
    {
     "ename": "TypeError",
     "evalue": "'Index' object is not callable",
     "output_type": "error",
     "traceback": [
      "\u001b[1;31m---------------------------------------------------------------------------\u001b[0m",
      "\u001b[1;31mTypeError\u001b[0m                                 Traceback (most recent call last)",
      "\u001b[1;32m~\\AppData\\Local\\Temp\\ipykernel_17884\\1566044817.py\u001b[0m in \u001b[0;36m<module>\u001b[1;34m\u001b[0m\n\u001b[1;32m----> 1\u001b[1;33m \u001b[0mdata\u001b[0m\u001b[1;33m.\u001b[0m\u001b[0mcolumns\u001b[0m\u001b[1;33m(\u001b[0m\u001b[1;33m)\u001b[0m\u001b[1;33m\u001b[0m\u001b[1;33m\u001b[0m\u001b[0m\n\u001b[0m",
      "\u001b[1;31mTypeError\u001b[0m: 'Index' object is not callable"
     ]
    }
   ],
   "source": []
  },
  {
   "cell_type": "code",
   "execution_count": null,
   "id": "2fb8b9cc",
   "metadata": {},
   "outputs": [],
   "source": [
    "data = pd.get_dummies(data, columns=[\"Education Level\",\"Marital Status\",\"Household Income\"])"
   ]
  },
  {
   "cell_type": "code",
   "execution_count": null,
   "id": "4db57d48",
   "metadata": {},
   "outputs": [],
   "source": [
    "data.info()"
   ]
  },
  {
   "cell_type": "code",
   "execution_count": null,
   "id": "ee896c95",
   "metadata": {},
   "outputs": [],
   "source": [
    "data.head()"
   ]
  },
  {
   "cell_type": "code",
   "execution_count": null,
   "id": "4807043d",
   "metadata": {},
   "outputs": [],
   "source": [
    "data.columns"
   ]
  },
  {
   "cell_type": "code",
   "execution_count": null,
   "id": "d5f1b994",
   "metadata": {},
   "outputs": [],
   "source": [
    "# Divide the data into independent and target variables\n",
    "X = data.drop(\"Depression\", axis=1) # Independent variables\n",
    "y = data[\"Depression\"] # Target variable\n",
    "print(X)\n",
    "# Split the data into training and testing sets\n",
    "X_train, X_test, y_train, y_test = train_test_split(X, y, test_size=0.2, random_state=42)\n",
    "\n"
   ]
  },
  {
   "cell_type": "code",
   "execution_count": null,
   "id": "cd8a03f9",
   "metadata": {},
   "outputs": [],
   "source": [
    "\n",
    "# Train a logistic regression model\n",
    "logreg = LogisticRegression()\n",
    "logreg.fit(X_train, y_train)\n",
    "# Evaluate the performance of the model on the testing set\n",
    "score = logreg.score(X_test, y_test)\n",
    "print(\"Accuracy on testing set: {:.2f}%\".format(score * 100))"
   ]
  },
  {
   "cell_type": "code",
   "execution_count": null,
   "id": "16bb5a4a",
   "metadata": {},
   "outputs": [],
   "source": [
    "import json\n",
    "\n",
    "# Example variable to export\n",
    "send = {'accuracyl':(score * 100)}\n",
    "\n",
    "with open('accuracyl.json', 'w') as f:\n",
    "    json.dump(send, f)"
   ]
  },
  {
   "cell_type": "code",
   "execution_count": null,
   "id": "c7cb2c2e",
   "metadata": {},
   "outputs": [],
   "source": [
    "X_test.head()"
   ]
  },
  {
   "cell_type": "code",
   "execution_count": null,
   "id": "f5a7cc0b",
   "metadata": {},
   "outputs": [],
   "source": [
    "import pickle\n",
    "with open('lr_model.pickle', 'wb') as f:\n",
    "    pickle.dump(logreg, f)\n",
    "\n",
    "print(\"complete\")"
   ]
  },
  {
   "cell_type": "code",
   "execution_count": null,
   "id": "5c983de9",
   "metadata": {},
   "outputs": [],
   "source": []
  }
 ],
 "metadata": {
  "kernelspec": {
   "display_name": "Python 3 (ipykernel)",
   "language": "python",
   "name": "python3"
  },
  "language_info": {
   "codemirror_mode": {
    "name": "ipython",
    "version": 3
   },
   "file_extension": ".py",
   "mimetype": "text/x-python",
   "name": "python",
   "nbconvert_exporter": "python",
   "pygments_lexer": "ipython3",
   "version": "3.9.13"
  }
 },
 "nbformat": 4,
 "nbformat_minor": 5
}
